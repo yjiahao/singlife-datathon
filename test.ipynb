{
 "cells": [
  {
   "cell_type": "markdown",
   "metadata": {},
   "source": [
    "## Performing EDA"
   ]
  },
  {
   "cell_type": "code",
   "execution_count": 194,
   "metadata": {},
   "outputs": [],
   "source": [
    "import pandas as pd\n",
    "import numpy as np\n",
    "import matplotlib.pyplot as plt\n",
    "import seaborn as sns"
   ]
  },
  {
   "cell_type": "code",
   "execution_count": 195,
   "metadata": {},
   "outputs": [],
   "source": [
    "def print_full(x):\n",
    "    pd.set_option('display.max_rows', None)\n",
    "    pd.set_option('display.max_columns', None)\n",
    "    pd.set_option('display.width', 2000)\n",
    "    pd.set_option('display.float_format', '{:20,.2f}'.format)\n",
    "    pd.set_option('display.max_colwidth', None)\n",
    "    print(x)\n",
    "    pd.reset_option('display.max_rows')\n",
    "    pd.reset_option('display.max_columns')\n",
    "    pd.reset_option('display.width')\n",
    "    pd.reset_option('display.float_format')\n",
    "    pd.reset_option('display.max_colwidth')"
   ]
  },
  {
   "cell_type": "code",
   "execution_count": 196,
   "metadata": {},
   "outputs": [],
   "source": [
    "agent = pd.read_parquet(\"./data/nus_agent_info_df.parquet\")\n",
    "policy = pd.read_parquet('./data/nus_policy_info_df.parquet')\n",
    "client = pd.read_parquet('./data/nus_policy_info_df.parquet')\n",
    "sample = pd.read_parquet('./data/sample_final_modelling_df.parquet')"
   ]
  },
  {
   "cell_type": "code",
   "execution_count": 197,
   "metadata": {},
   "outputs": [],
   "source": [
    "policy['agntnum'] = policy['agntnum'].astype(str)\n",
    "agent['agntnum'] = agent['agntnum'].astype(str)"
   ]
  },
  {
   "cell_type": "code",
   "execution_count": 198,
   "metadata": {},
   "outputs": [
    {
     "data": {
      "text/html": [
       "<div>\n",
       "<style scoped>\n",
       "    .dataframe tbody tr th:only-of-type {\n",
       "        vertical-align: middle;\n",
       "    }\n",
       "\n",
       "    .dataframe tbody tr th {\n",
       "        vertical-align: top;\n",
       "    }\n",
       "\n",
       "    .dataframe thead th {\n",
       "        text-align: right;\n",
       "    }\n",
       "</style>\n",
       "<table border=\"1\" class=\"dataframe\">\n",
       "  <thead>\n",
       "    <tr style=\"text-align: right;\">\n",
       "      <th></th>\n",
       "      <th>chdrnum</th>\n",
       "      <th>agntnum</th>\n",
       "      <th>secuityno</th>\n",
       "      <th>occdate</th>\n",
       "      <th>annual_premium</th>\n",
       "      <th>product</th>\n",
       "      <th>flg_main</th>\n",
       "      <th>flg_rider</th>\n",
       "      <th>flg_inforce</th>\n",
       "      <th>flg_lapsed</th>\n",
       "      <th>flg_cancel</th>\n",
       "      <th>flg_expire</th>\n",
       "      <th>flg_converted</th>\n",
       "      <th>product_grp</th>\n",
       "      <th>cust_age_at_purchase_grp</th>\n",
       "      <th>cust_tenure_at_purchase_grp</th>\n",
       "    </tr>\n",
       "  </thead>\n",
       "  <tbody>\n",
       "    <tr>\n",
       "      <th>0</th>\n",
       "      <td>PID:281</td>\n",
       "      <td>AIN:62</td>\n",
       "      <td>CIN:6957</td>\n",
       "      <td>2018-11-12</td>\n",
       "      <td>0.0</td>\n",
       "      <td>prod_8</td>\n",
       "      <td>1</td>\n",
       "      <td>0</td>\n",
       "      <td>1</td>\n",
       "      <td>0</td>\n",
       "      <td>0</td>\n",
       "      <td>0</td>\n",
       "      <td>1</td>\n",
       "      <td>PG:0</td>\n",
       "      <td>AG05_35to39</td>\n",
       "      <td>TNR2_lt1yr</td>\n",
       "    </tr>\n",
       "    <tr>\n",
       "      <th>1</th>\n",
       "      <td>PID:280</td>\n",
       "      <td>AIN:63</td>\n",
       "      <td>CIN:2161</td>\n",
       "      <td>2024-02-22</td>\n",
       "      <td>7.0</td>\n",
       "      <td>prod_8</td>\n",
       "      <td>1</td>\n",
       "      <td>0</td>\n",
       "      <td>1</td>\n",
       "      <td>0</td>\n",
       "      <td>0</td>\n",
       "      <td>0</td>\n",
       "      <td>1</td>\n",
       "      <td>PG:0</td>\n",
       "      <td>AG04_30to34</td>\n",
       "      <td>TNR4_4to8yr</td>\n",
       "    </tr>\n",
       "    <tr>\n",
       "      <th>2</th>\n",
       "      <td>PID:2577</td>\n",
       "      <td>AIN:63</td>\n",
       "      <td>CIN:16605</td>\n",
       "      <td>2024-08-28</td>\n",
       "      <td>423.0</td>\n",
       "      <td>prod_6</td>\n",
       "      <td>1</td>\n",
       "      <td>0</td>\n",
       "      <td>1</td>\n",
       "      <td>0</td>\n",
       "      <td>0</td>\n",
       "      <td>0</td>\n",
       "      <td>1</td>\n",
       "      <td>PG:0</td>\n",
       "      <td>AG08_50to54</td>\n",
       "      <td>TNR5_8yrup</td>\n",
       "    </tr>\n",
       "    <tr>\n",
       "      <th>3</th>\n",
       "      <td>PID:2578</td>\n",
       "      <td>AIN:63</td>\n",
       "      <td>CIN:16605</td>\n",
       "      <td>2024-08-27</td>\n",
       "      <td>217.0</td>\n",
       "      <td>prod_6</td>\n",
       "      <td>1</td>\n",
       "      <td>0</td>\n",
       "      <td>1</td>\n",
       "      <td>0</td>\n",
       "      <td>0</td>\n",
       "      <td>0</td>\n",
       "      <td>1</td>\n",
       "      <td>PG:0</td>\n",
       "      <td>AG08_50to54</td>\n",
       "      <td>TNR5_8yrup</td>\n",
       "    </tr>\n",
       "    <tr>\n",
       "      <th>4</th>\n",
       "      <td>PID:305</td>\n",
       "      <td>AIN:63</td>\n",
       "      <td>CIN:7917</td>\n",
       "      <td>2024-08-28</td>\n",
       "      <td>432.0</td>\n",
       "      <td>prod_6</td>\n",
       "      <td>1</td>\n",
       "      <td>0</td>\n",
       "      <td>1</td>\n",
       "      <td>0</td>\n",
       "      <td>0</td>\n",
       "      <td>0</td>\n",
       "      <td>1</td>\n",
       "      <td>PG:0</td>\n",
       "      <td>AG07_45to49</td>\n",
       "      <td>TNR4_4to8yr</td>\n",
       "    </tr>\n",
       "    <tr>\n",
       "      <th>...</th>\n",
       "      <td>...</td>\n",
       "      <td>...</td>\n",
       "      <td>...</td>\n",
       "      <td>...</td>\n",
       "      <td>...</td>\n",
       "      <td>...</td>\n",
       "      <td>...</td>\n",
       "      <td>...</td>\n",
       "      <td>...</td>\n",
       "      <td>...</td>\n",
       "      <td>...</td>\n",
       "      <td>...</td>\n",
       "      <td>...</td>\n",
       "      <td>...</td>\n",
       "      <td>...</td>\n",
       "      <td>...</td>\n",
       "    </tr>\n",
       "    <tr>\n",
       "      <th>29498</th>\n",
       "      <td>PID:22084</td>\n",
       "      <td>AIN:6527</td>\n",
       "      <td>CIN:15419</td>\n",
       "      <td>2012-10-30</td>\n",
       "      <td>4574.4</td>\n",
       "      <td>prod_4</td>\n",
       "      <td>1</td>\n",
       "      <td>0</td>\n",
       "      <td>1</td>\n",
       "      <td>0</td>\n",
       "      <td>0</td>\n",
       "      <td>0</td>\n",
       "      <td>1</td>\n",
       "      <td>PG:1</td>\n",
       "      <td>AG09_55to59</td>\n",
       "      <td>TNR4_4to8yr</td>\n",
       "    </tr>\n",
       "    <tr>\n",
       "      <th>29499</th>\n",
       "      <td>PID:13706</td>\n",
       "      <td>AIN:3472</td>\n",
       "      <td>CIN:17337</td>\n",
       "      <td>2008-09-01</td>\n",
       "      <td>267.0</td>\n",
       "      <td>prod_6</td>\n",
       "      <td>1</td>\n",
       "      <td>0</td>\n",
       "      <td>1</td>\n",
       "      <td>0</td>\n",
       "      <td>0</td>\n",
       "      <td>0</td>\n",
       "      <td>1</td>\n",
       "      <td>PG:0</td>\n",
       "      <td>AG06_40to44</td>\n",
       "      <td>TNR2_lt1yr</td>\n",
       "    </tr>\n",
       "    <tr>\n",
       "      <th>29500</th>\n",
       "      <td>PID:25287</td>\n",
       "      <td>AIN:7852</td>\n",
       "      <td>CIN:13015</td>\n",
       "      <td>2000-06-21</td>\n",
       "      <td>0.0</td>\n",
       "      <td>prod_4</td>\n",
       "      <td>1</td>\n",
       "      <td>0</td>\n",
       "      <td>0</td>\n",
       "      <td>1</td>\n",
       "      <td>0</td>\n",
       "      <td>0</td>\n",
       "      <td>1</td>\n",
       "      <td>PG:1</td>\n",
       "      <td>AG08_50to54</td>\n",
       "      <td>TNR5_8yrup</td>\n",
       "    </tr>\n",
       "    <tr>\n",
       "      <th>29501</th>\n",
       "      <td>PID:26334</td>\n",
       "      <td>AIN:8316</td>\n",
       "      <td>CIN:2239</td>\n",
       "      <td>2010-06-10</td>\n",
       "      <td>1152.0</td>\n",
       "      <td>prod_8</td>\n",
       "      <td>1</td>\n",
       "      <td>0</td>\n",
       "      <td>1</td>\n",
       "      <td>0</td>\n",
       "      <td>0</td>\n",
       "      <td>0</td>\n",
       "      <td>1</td>\n",
       "      <td>PG:0</td>\n",
       "      <td>AG03_25to29</td>\n",
       "      <td>TNR4_4to8yr</td>\n",
       "    </tr>\n",
       "    <tr>\n",
       "      <th>29502</th>\n",
       "      <td>PID:29520</td>\n",
       "      <td>AIN:10030</td>\n",
       "      <td>CIN:1922</td>\n",
       "      <td>2017-02-14</td>\n",
       "      <td>701.0</td>\n",
       "      <td>prod_6</td>\n",
       "      <td>1</td>\n",
       "      <td>0</td>\n",
       "      <td>0</td>\n",
       "      <td>1</td>\n",
       "      <td>0</td>\n",
       "      <td>0</td>\n",
       "      <td>1</td>\n",
       "      <td>PG:0</td>\n",
       "      <td>AG10_60up</td>\n",
       "      <td>TNR3_1to4yr</td>\n",
       "    </tr>\n",
       "  </tbody>\n",
       "</table>\n",
       "<p>29503 rows × 16 columns</p>\n",
       "</div>"
      ],
      "text/plain": [
       "         chdrnum    agntnum  secuityno    occdate  annual_premium product  \\\n",
       "0        PID:281     AIN:62   CIN:6957 2018-11-12             0.0  prod_8   \n",
       "1        PID:280     AIN:63   CIN:2161 2024-02-22             7.0  prod_8   \n",
       "2       PID:2577     AIN:63  CIN:16605 2024-08-28           423.0  prod_6   \n",
       "3       PID:2578     AIN:63  CIN:16605 2024-08-27           217.0  prod_6   \n",
       "4        PID:305     AIN:63   CIN:7917 2024-08-28           432.0  prod_6   \n",
       "...          ...        ...        ...        ...             ...     ...   \n",
       "29498  PID:22084   AIN:6527  CIN:15419 2012-10-30          4574.4  prod_4   \n",
       "29499  PID:13706   AIN:3472  CIN:17337 2008-09-01           267.0  prod_6   \n",
       "29500  PID:25287   AIN:7852  CIN:13015 2000-06-21             0.0  prod_4   \n",
       "29501  PID:26334   AIN:8316   CIN:2239 2010-06-10          1152.0  prod_8   \n",
       "29502  PID:29520  AIN:10030   CIN:1922 2017-02-14           701.0  prod_6   \n",
       "\n",
       "       flg_main  flg_rider  flg_inforce  flg_lapsed  flg_cancel  flg_expire  \\\n",
       "0             1          0            1           0           0           0   \n",
       "1             1          0            1           0           0           0   \n",
       "2             1          0            1           0           0           0   \n",
       "3             1          0            1           0           0           0   \n",
       "4             1          0            1           0           0           0   \n",
       "...         ...        ...          ...         ...         ...         ...   \n",
       "29498         1          0            1           0           0           0   \n",
       "29499         1          0            1           0           0           0   \n",
       "29500         1          0            0           1           0           0   \n",
       "29501         1          0            1           0           0           0   \n",
       "29502         1          0            0           1           0           0   \n",
       "\n",
       "       flg_converted product_grp cust_age_at_purchase_grp  \\\n",
       "0                  1        PG:0              AG05_35to39   \n",
       "1                  1        PG:0              AG04_30to34   \n",
       "2                  1        PG:0              AG08_50to54   \n",
       "3                  1        PG:0              AG08_50to54   \n",
       "4                  1        PG:0              AG07_45to49   \n",
       "...              ...         ...                      ...   \n",
       "29498              1        PG:1              AG09_55to59   \n",
       "29499              1        PG:0              AG06_40to44   \n",
       "29500              1        PG:1              AG08_50to54   \n",
       "29501              1        PG:0              AG03_25to29   \n",
       "29502              1        PG:0                AG10_60up   \n",
       "\n",
       "      cust_tenure_at_purchase_grp  \n",
       "0                      TNR2_lt1yr  \n",
       "1                     TNR4_4to8yr  \n",
       "2                      TNR5_8yrup  \n",
       "3                      TNR5_8yrup  \n",
       "4                     TNR4_4to8yr  \n",
       "...                           ...  \n",
       "29498                 TNR4_4to8yr  \n",
       "29499                  TNR2_lt1yr  \n",
       "29500                  TNR5_8yrup  \n",
       "29501                 TNR4_4to8yr  \n",
       "29502                 TNR3_1to4yr  \n",
       "\n",
       "[29503 rows x 16 columns]"
      ]
     },
     "execution_count": 198,
     "metadata": {},
     "output_type": "execute_result"
    }
   ],
   "source": [
    "# join on agent and policy on agent_num\n",
    "# join result with client information on chdrnum and agent_num?\n",
    "policy"
   ]
  },
  {
   "cell_type": "code",
   "execution_count": 199,
   "metadata": {},
   "outputs": [
    {
     "data": {
      "text/plain": [
       "Index(['annual_premium', 'chdrnum', 'cust_age_at_purchase_grp',\n",
       "       'cust_tenure_at_purchase_grp', 'flg_cancel', 'flg_converted',\n",
       "       'flg_expire', 'flg_inforce', 'flg_lapsed', 'flg_main', 'flg_rider',\n",
       "       'occdate', 'product', 'product_grp', 'secuityno'],\n",
       "      dtype='object')"
      ]
     },
     "execution_count": 199,
     "metadata": {},
     "output_type": "execute_result"
    }
   ],
   "source": [
    "policy.columns.difference(agent.columns)"
   ]
  },
  {
   "cell_type": "code",
   "execution_count": 200,
   "metadata": {},
   "outputs": [],
   "source": [
    "cols_to_use = list(policy.columns.difference(agent.columns)) + ['agntnum']\n",
    "df = agent.merge(\n",
    "    policy[cols_to_use],\n",
    "    on='agntnum'\n",
    ")\n",
    "\n",
    "df = df.merge(\n",
    "    client,\n",
    "    on=['chdrnum', 'agntnum']\n",
    ")"
   ]
  },
  {
   "cell_type": "code",
   "execution_count": 201,
   "metadata": {},
   "outputs": [
    {
     "data": {
      "text/html": [
       "<div>\n",
       "<style scoped>\n",
       "    .dataframe tbody tr th:only-of-type {\n",
       "        vertical-align: middle;\n",
       "    }\n",
       "\n",
       "    .dataframe tbody tr th {\n",
       "        vertical-align: top;\n",
       "    }\n",
       "\n",
       "    .dataframe thead th {\n",
       "        text-align: right;\n",
       "    }\n",
       "</style>\n",
       "<table border=\"1\" class=\"dataframe\">\n",
       "  <thead>\n",
       "    <tr style=\"text-align: right;\">\n",
       "      <th></th>\n",
       "      <th>agntnum</th>\n",
       "      <th>agent_age</th>\n",
       "      <th>agent_gender</th>\n",
       "      <th>agent_marital</th>\n",
       "      <th>agent_tenure</th>\n",
       "      <th>cnt_converted</th>\n",
       "      <th>annual_premium_cnvrt</th>\n",
       "      <th>pct_lapsed</th>\n",
       "      <th>pct_cancel</th>\n",
       "      <th>pct_inforce</th>\n",
       "      <th>...</th>\n",
       "      <th>flg_main_y</th>\n",
       "      <th>flg_rider_y</th>\n",
       "      <th>flg_inforce_y</th>\n",
       "      <th>flg_lapsed_y</th>\n",
       "      <th>flg_cancel_y</th>\n",
       "      <th>flg_expire_y</th>\n",
       "      <th>flg_converted_y</th>\n",
       "      <th>product_grp_y</th>\n",
       "      <th>cust_age_at_purchase_grp_y</th>\n",
       "      <th>cust_tenure_at_purchase_grp_y</th>\n",
       "    </tr>\n",
       "  </thead>\n",
       "  <tbody>\n",
       "    <tr>\n",
       "      <th>0</th>\n",
       "      <td>AIN:9513</td>\n",
       "      <td>32.0</td>\n",
       "      <td>M</td>\n",
       "      <td>M</td>\n",
       "      <td>15.0</td>\n",
       "      <td>21.0</td>\n",
       "      <td>10049.0</td>\n",
       "      <td>1.0</td>\n",
       "      <td>0.814954</td>\n",
       "      <td>0.000000</td>\n",
       "      <td>...</td>\n",
       "      <td>1</td>\n",
       "      <td>0</td>\n",
       "      <td>0</td>\n",
       "      <td>1</td>\n",
       "      <td>0</td>\n",
       "      <td>0</td>\n",
       "      <td>1</td>\n",
       "      <td>PG:0</td>\n",
       "      <td>AG08_50to54</td>\n",
       "      <td>TNR2_lt1yr</td>\n",
       "    </tr>\n",
       "    <tr>\n",
       "      <th>1</th>\n",
       "      <td>AIN:9513</td>\n",
       "      <td>32.0</td>\n",
       "      <td>M</td>\n",
       "      <td>M</td>\n",
       "      <td>15.0</td>\n",
       "      <td>21.0</td>\n",
       "      <td>10049.0</td>\n",
       "      <td>1.0</td>\n",
       "      <td>0.814954</td>\n",
       "      <td>0.000000</td>\n",
       "      <td>...</td>\n",
       "      <td>1</td>\n",
       "      <td>0</td>\n",
       "      <td>0</td>\n",
       "      <td>1</td>\n",
       "      <td>0</td>\n",
       "      <td>0</td>\n",
       "      <td>1</td>\n",
       "      <td>PG:0</td>\n",
       "      <td>AG08_50to54</td>\n",
       "      <td>TNR2_lt1yr</td>\n",
       "    </tr>\n",
       "    <tr>\n",
       "      <th>2</th>\n",
       "      <td>AIN:4310</td>\n",
       "      <td>40.0</td>\n",
       "      <td>M</td>\n",
       "      <td>M</td>\n",
       "      <td>18.0</td>\n",
       "      <td>396.0</td>\n",
       "      <td>197108.0</td>\n",
       "      <td>0.6</td>\n",
       "      <td>0.083937</td>\n",
       "      <td>0.429293</td>\n",
       "      <td>...</td>\n",
       "      <td>1</td>\n",
       "      <td>0</td>\n",
       "      <td>1</td>\n",
       "      <td>0</td>\n",
       "      <td>0</td>\n",
       "      <td>0</td>\n",
       "      <td>1</td>\n",
       "      <td>PG:0</td>\n",
       "      <td>AG06_40to44</td>\n",
       "      <td>TNR2_lt1yr</td>\n",
       "    </tr>\n",
       "    <tr>\n",
       "      <th>3</th>\n",
       "      <td>AIN:4310</td>\n",
       "      <td>40.0</td>\n",
       "      <td>M</td>\n",
       "      <td>M</td>\n",
       "      <td>18.0</td>\n",
       "      <td>396.0</td>\n",
       "      <td>197108.0</td>\n",
       "      <td>0.6</td>\n",
       "      <td>0.083937</td>\n",
       "      <td>0.429293</td>\n",
       "      <td>...</td>\n",
       "      <td>1</td>\n",
       "      <td>0</td>\n",
       "      <td>0</td>\n",
       "      <td>1</td>\n",
       "      <td>0</td>\n",
       "      <td>0</td>\n",
       "      <td>1</td>\n",
       "      <td>PG:0</td>\n",
       "      <td>AG03_25to29</td>\n",
       "      <td>TNR3_1to4yr</td>\n",
       "    </tr>\n",
       "    <tr>\n",
       "      <th>4</th>\n",
       "      <td>AIN:4310</td>\n",
       "      <td>40.0</td>\n",
       "      <td>M</td>\n",
       "      <td>M</td>\n",
       "      <td>18.0</td>\n",
       "      <td>396.0</td>\n",
       "      <td>197108.0</td>\n",
       "      <td>0.6</td>\n",
       "      <td>0.083937</td>\n",
       "      <td>0.429293</td>\n",
       "      <td>...</td>\n",
       "      <td>1</td>\n",
       "      <td>0</td>\n",
       "      <td>0</td>\n",
       "      <td>1</td>\n",
       "      <td>0</td>\n",
       "      <td>0</td>\n",
       "      <td>1</td>\n",
       "      <td>PG:0</td>\n",
       "      <td>AG04_30to34</td>\n",
       "      <td>TNR5_8yrup</td>\n",
       "    </tr>\n",
       "  </tbody>\n",
       "</table>\n",
       "<p>5 rows × 64 columns</p>\n",
       "</div>"
      ],
      "text/plain": [
       "    agntnum  agent_age agent_gender agent_marital  agent_tenure  \\\n",
       "0  AIN:9513       32.0            M             M          15.0   \n",
       "1  AIN:9513       32.0            M             M          15.0   \n",
       "2  AIN:4310       40.0            M             M          18.0   \n",
       "3  AIN:4310       40.0            M             M          18.0   \n",
       "4  AIN:4310       40.0            M             M          18.0   \n",
       "\n",
       "   cnt_converted  annual_premium_cnvrt  pct_lapsed  pct_cancel  pct_inforce  \\\n",
       "0           21.0               10049.0         1.0    0.814954     0.000000   \n",
       "1           21.0               10049.0         1.0    0.814954     0.000000   \n",
       "2          396.0              197108.0         0.6    0.083937     0.429293   \n",
       "3          396.0              197108.0         0.6    0.083937     0.429293   \n",
       "4          396.0              197108.0         0.6    0.083937     0.429293   \n",
       "\n",
       "   ...  flg_main_y  flg_rider_y  flg_inforce_y  flg_lapsed_y  flg_cancel_y  \\\n",
       "0  ...           1            0              0             1             0   \n",
       "1  ...           1            0              0             1             0   \n",
       "2  ...           1            0              1             0             0   \n",
       "3  ...           1            0              0             1             0   \n",
       "4  ...           1            0              0             1             0   \n",
       "\n",
       "   flg_expire_y  flg_converted_y  product_grp_y  cust_age_at_purchase_grp_y  \\\n",
       "0             0                1           PG:0                 AG08_50to54   \n",
       "1             0                1           PG:0                 AG08_50to54   \n",
       "2             0                1           PG:0                 AG06_40to44   \n",
       "3             0                1           PG:0                 AG03_25to29   \n",
       "4             0                1           PG:0                 AG04_30to34   \n",
       "\n",
       "   cust_tenure_at_purchase_grp_y  \n",
       "0                     TNR2_lt1yr  \n",
       "1                     TNR2_lt1yr  \n",
       "2                     TNR2_lt1yr  \n",
       "3                    TNR3_1to4yr  \n",
       "4                     TNR5_8yrup  \n",
       "\n",
       "[5 rows x 64 columns]"
      ]
     },
     "execution_count": 201,
     "metadata": {},
     "output_type": "execute_result"
    }
   ],
   "source": [
    "df.head()"
   ]
  },
  {
   "cell_type": "code",
   "execution_count": 202,
   "metadata": {},
   "outputs": [
    {
     "data": {
      "text/plain": [
       "Index(['agntnum', 'agent_age', 'agent_gender', 'agent_marital', 'agent_tenure',\n",
       "       'cnt_converted', 'annual_premium_cnvrt', 'pct_lapsed', 'pct_cancel',\n",
       "       'pct_inforce', 'pct_prod_0_cnvrt', 'pct_prod_1_cnvrt',\n",
       "       'pct_prod_2_cnvrt', 'pct_prod_3_cnvrt', 'pct_prod_4_cnvrt',\n",
       "       'pct_prod_5_cnvrt', 'pct_prod_6_cnvrt', 'pct_prod_7_cnvrt',\n",
       "       'pct_prod_8_cnvrt', 'pct_prod_9_cnvrt', 'pct_SX0_unknown',\n",
       "       'pct_SX1_male', 'pct_SX2_female', 'pct_AG01_lt20', 'pct_AG02_20to24',\n",
       "       'pct_AG03_25to29', 'pct_AG04_30to34', 'pct_AG05_35to39',\n",
       "       'pct_AG06_40to44', 'pct_AG07_45to49', 'pct_AG08_50to54',\n",
       "       'pct_AG09_55to59', 'pct_AG10_60up', 'cluster',\n",
       "       'agent_product_expertise', 'annual_premium_x', 'chdrnum',\n",
       "       'cust_age_at_purchase_grp_x', 'cust_tenure_at_purchase_grp_x',\n",
       "       'flg_cancel_x', 'flg_converted_x', 'flg_expire_x', 'flg_inforce_x',\n",
       "       'flg_lapsed_x', 'flg_main_x', 'flg_rider_x', 'occdate_x', 'product_x',\n",
       "       'product_grp_x', 'secuityno_x', 'secuityno_y', 'occdate_y',\n",
       "       'annual_premium_y', 'product_y', 'flg_main_y', 'flg_rider_y',\n",
       "       'flg_inforce_y', 'flg_lapsed_y', 'flg_cancel_y', 'flg_expire_y',\n",
       "       'flg_converted_y', 'product_grp_y', 'cust_age_at_purchase_grp_y',\n",
       "       'cust_tenure_at_purchase_grp_y'],\n",
       "      dtype='object')"
      ]
     },
     "execution_count": 202,
     "metadata": {},
     "output_type": "execute_result"
    }
   ],
   "source": [
    "df.columns"
   ]
  },
  {
   "cell_type": "code",
   "execution_count": 203,
   "metadata": {},
   "outputs": [],
   "source": [
    "# remove all suffixes from the columns: _x or _y\n",
    "\n",
    "df.columns = ['agntnum', 'agent_age', 'agent_gender', 'agent_marital', 'agent_tenure',\n",
    "       'cnt_converted', 'annual_premium_cnvrt', 'pct_lapsed', 'pct_cancel',\n",
    "       'pct_inforce', 'pct_prod_0_cnvrt', 'pct_prod_1_cnvrt',\n",
    "       'pct_prod_2_cnvrt', 'pct_prod_3_cnvrt', 'pct_prod_4_cnvrt',\n",
    "       'pct_prod_5_cnvrt', 'pct_prod_6_cnvrt', 'pct_prod_7_cnvrt',\n",
    "       'pct_prod_8_cnvrt', 'pct_prod_9_cnvrt', 'pct_SX0_unknown',\n",
    "       'pct_SX1_male', 'pct_SX2_female', 'pct_AG01_lt20', 'pct_AG02_20to24',\n",
    "       'pct_AG03_25to29', 'pct_AG04_30to34', 'pct_AG05_35to39',\n",
    "       'pct_AG06_40to44', 'pct_AG07_45to49', 'pct_AG08_50to54',\n",
    "       'pct_AG09_55to59', 'pct_AG10_60up', 'cluster',\n",
    "       'agent_product_expertise', 'annual_premium', 'chdrnum',\n",
    "       'cust_age_at_purchase_grp', 'cust_tenure_at_purchase_grp',\n",
    "       'flg_cancel', 'flg_converted', 'flg_expire', 'flg_inforce',\n",
    "       'flg_lapsed', 'flg_main', 'flg_rider', 'occdate', 'product',\n",
    "       'product_grp', 'secuityno', 'secuityno_y', 'occdate_y',\n",
    "       'annual_premium_y', 'product_', 'flg_main_y', 'flg_rider_y',\n",
    "       'flg_inforce_y', 'flg_lapsed_y', 'flg_cancel_y', 'flg_expire_y',\n",
    "       'flg_converted_y', 'product_grp_y', 'cust_age_at_purchase_grp_y',\n",
    "       'cust_tenure_at_purchase_grp_y']"
   ]
  },
  {
   "cell_type": "code",
   "execution_count": 204,
   "metadata": {},
   "outputs": [],
   "source": [
    "df = df.drop(\n",
    "    columns=['secuityno_y', 'occdate_y',\n",
    "       'annual_premium_y', 'product_', 'flg_main_y', 'flg_rider_y',\n",
    "       'flg_inforce_y', 'flg_lapsed_y', 'flg_cancel_y', 'flg_expire_y',\n",
    "       'flg_converted_y', 'product_grp_y', 'cust_age_at_purchase_grp_y',\n",
    "       'cust_tenure_at_purchase_grp_y']\n",
    ")"
   ]
  },
  {
   "cell_type": "code",
   "execution_count": 205,
   "metadata": {},
   "outputs": [
    {
     "name": "stdout",
     "output_type": "stream",
     "text": [
      "agntnum                                object\n",
      "agent_age                             float64\n",
      "agent_gender                           object\n",
      "agent_marital                          object\n",
      "agent_tenure                          float64\n",
      "cnt_converted                         float64\n",
      "annual_premium_cnvrt                  float64\n",
      "pct_lapsed                            float64\n",
      "pct_cancel                            float64\n",
      "pct_inforce                           float64\n",
      "pct_prod_0_cnvrt                      float64\n",
      "pct_prod_1_cnvrt                      float64\n",
      "pct_prod_2_cnvrt                      float64\n",
      "pct_prod_3_cnvrt                      float64\n",
      "pct_prod_4_cnvrt                      float64\n",
      "pct_prod_5_cnvrt                      float64\n",
      "pct_prod_6_cnvrt                      float64\n",
      "pct_prod_7_cnvrt                      float64\n",
      "pct_prod_8_cnvrt                      float64\n",
      "pct_prod_9_cnvrt                      float64\n",
      "pct_SX0_unknown                       float64\n",
      "pct_SX1_male                          float64\n",
      "pct_SX2_female                        float64\n",
      "pct_AG01_lt20                         float64\n",
      "pct_AG02_20to24                       float64\n",
      "pct_AG03_25to29                       float64\n",
      "pct_AG04_30to34                       float64\n",
      "pct_AG05_35to39                       float64\n",
      "pct_AG06_40to44                       float64\n",
      "pct_AG07_45to49                       float64\n",
      "pct_AG08_50to54                       float64\n",
      "pct_AG09_55to59                       float64\n",
      "pct_AG10_60up                         float64\n",
      "cluster                                 int32\n",
      "agent_product_expertise                object\n",
      "annual_premium                        float64\n",
      "chdrnum                                object\n",
      "cust_age_at_purchase_grp               object\n",
      "cust_tenure_at_purchase_grp            object\n",
      "flg_cancel                              int64\n",
      "flg_converted                           int64\n",
      "flg_expire                              int64\n",
      "flg_inforce                             int64\n",
      "flg_lapsed                              int64\n",
      "flg_main                                int64\n",
      "flg_rider                               int64\n",
      "occdate                        datetime64[us]\n",
      "product                                object\n",
      "product_grp                            object\n",
      "secuityno                              object\n",
      "dtype: object\n"
     ]
    }
   ],
   "source": [
    "print_full(df.dtypes)"
   ]
  },
  {
   "cell_type": "code",
   "execution_count": 206,
   "metadata": {},
   "outputs": [],
   "source": [
    "# drop some columns as they do not provide any extra useful information\n",
    "# flg_converted is always 1\n",
    "# if flg_inforce == 1, flg_lapsed == 0\n",
    "# flg_cancel is always == 0\n",
    "\n",
    "df = df.drop(columns=['flg_converted', 'flg_lapsed', 'flg_cancel'])"
   ]
  },
  {
   "cell_type": "code",
   "execution_count": 207,
   "metadata": {},
   "outputs": [],
   "source": [
    "df['match'] = df['flg_inforce'] # suppose that whether an agent is a match or not is dependent on whether policy is inforce\n",
    "df['today'] = pd.to_datetime('2/2/2025')\n",
    "df['policy_period'] = (df['today'] - df['occdate']).dt.days / 30 # use number of months for now"
   ]
  },
  {
   "cell_type": "markdown",
   "metadata": {},
   "source": [
    "## Plot diagrams to visualize relationships"
   ]
  },
  {
   "cell_type": "code",
   "execution_count": 83,
   "metadata": {},
   "outputs": [
    {
     "data": {
      "image/png": "[encoded data removed]",
      "text/plain": [
       "<Figure size 640x480 with 1 Axes>"
      ]
     },
     "metadata": {},
     "output_type": "display_data"
    }
   ],
   "source": [
    "# distribution of agents across clusters\n",
    "sns.histplot(\n",
    "    df['cluster'],\n",
    "    stat='probability'\n",
    ")\n",
    "plt.xticks([0, 1, 2, 3, 4, 5, 6, 7, 8, 9])\n",
    "plt.show()"
   ]
  },
  {
   "cell_type": "markdown",
   "metadata": {},
   "source": [
    "We can observe that we have an imbalanced dataset"
   ]
  },
  {
   "cell_type": "code",
   "execution_count": 141,
   "metadata": {},
   "outputs": [
    {
     "data": {
      "image/png": "[encoded data removed]",
      "text/plain": [
       "<Figure size 1500x1000 with 1 Axes>"
      ]
     },
     "metadata": {},
     "output_type": "display_data"
    }
   ],
   "source": [
    "# determine if there is a relation between cluster (cetegorical variable) and age (continuous variable)\n",
    "plt.figure(figsize=(15,10))\n",
    "\n",
    "sns.violinplot(\n",
    "    data=df,\n",
    "    x='cluster',\n",
    "    y='agent_age'\n",
    ")\n",
    "\n",
    "plt.show()\n"
   ]
  },
  {
   "cell_type": "markdown",
   "metadata": {},
   "source": [
    "We can see that there is some variation of age of agents across all clusters"
   ]
  },
  {
   "cell_type": "code",
   "execution_count": 95,
   "metadata": {},
   "outputs": [
    {
     "data": {
      "text/plain": [
       "<Figure size 1500x1000 with 0 Axes>"
      ]
     },
     "metadata": {},
     "output_type": "display_data"
    },
    {
     "data": {
      "image/png": "[encoded data removed]",
      "text/plain": [
       "<Figure size 615.097x500 with 1 Axes>"
      ]
     },
     "metadata": {},
     "output_type": "display_data"
    }
   ],
   "source": [
    "# what about relationship between agent's gender and the cluster?\n",
    "# want 2 bars for each cluster that shows male and female\n",
    "plt.figure(figsize=(15,10))\n",
    "\n",
    "sns.catplot(\n",
    "    data=df,\n",
    "    kind='count',\n",
    "    x='cluster',\n",
    "    hue='agent_gender'\n",
    ")\n",
    "\n",
    "plt.show()"
   ]
  },
  {
   "cell_type": "markdown",
   "metadata": {},
   "source": [
    "We can see number of males are usually higher across all clusters except 5. This could help us identify whether an agent belongs to cluster 5 or not"
   ]
  },
  {
   "cell_type": "code",
   "execution_count": 218,
   "metadata": {},
   "outputs": [
    {
     "data": {
      "text/plain": [
       "<Axes: xlabel='policy_period', ylabel='Density'>"
      ]
     },
     "execution_count": 218,
     "metadata": {},
     "output_type": "execute_result"
    },
    {
     "data": {
      "image/png": "[encoded data removed]",
      "text/plain": [
       "<Figure size 640x480 with 1 Axes>"
      ]
     },
     "metadata": {},
     "output_type": "display_data"
    }
   ],
   "source": [
    "# check distribution of policy period\n",
    "# TODO: issue now is that policy_period takes into account until today...\n",
    "# we also dk when the policy was terminated\n",
    "\n",
    "sns.kdeplot(\n",
    "    data=df,\n",
    "    x='policy_period'\n",
    ")"
   ]
  },
  {
   "cell_type": "code",
   "execution_count": 96,
   "metadata": {},
   "outputs": [],
   "source": [
    "# for a customer, recommend the best FA for him/her\n",
    "# how do we know if the customer has the best FA?"
   ]
  },
  {
   "cell_type": "code",
   "execution_count": null,
   "metadata": {},
   "outputs": [],
   "source": [
    "# suppose that in the policy table, if flg_converted == 1 then the agntnum and secuityno are a match (so put as 1)"
   ]
  },
  {
   "cell_type": "code",
   "execution_count": null,
   "metadata": {},
   "outputs": [],
   "source": []
  },
  {
   "cell_type": "code",
   "execution_count": null,
   "metadata": {},
   "outputs": [],
   "source": []
  },
  {
   "cell_type": "code",
   "execution_count": null,
   "metadata": {},
   "outputs": [],
   "source": []
  },
  {
   "cell_type": "code",
   "execution_count": 142,
   "metadata": {},
   "outputs": [
    {
     "data": {
      "text/plain": [
       "flg_converted\n",
       "1    29503\n",
       "Name: count, dtype: int64"
      ]
     },
     "execution_count": 142,
     "metadata": {},
     "output_type": "execute_result"
    }
   ],
   "source": [
    "policy['flg_converted'].value_counts()"
   ]
  },
  {
   "cell_type": "code",
   "execution_count": null,
   "metadata": {},
   "outputs": [],
   "source": []
  },
  {
   "cell_type": "code",
   "execution_count": null,
   "metadata": {},
   "outputs": [],
   "source": []
  }
 ],
 "metadata": {
  "kernelspec": {
   "display_name": ".venv",
   "language": "python",
   "name": "python3"
  },
  "language_info": {
   "codemirror_mode": {
    "name": "ipython",
    "version": 3
   },
   "file_extension": ".py",
   "mimetype": "text/x-python",
   "name": "python",
   "nbconvert_exporter": "python",
   "pygments_lexer": "ipython3",
   "version": "3.12.1"
  }
 },
 "nbformat": 4,
 "nbformat_minor": 2
}
